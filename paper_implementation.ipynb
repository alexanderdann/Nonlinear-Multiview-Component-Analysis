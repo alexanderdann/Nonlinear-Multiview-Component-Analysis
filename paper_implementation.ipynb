{
 "cells": [
  {
   "cell_type": "code",
   "execution_count": null,
   "metadata": {},
   "outputs": [],
   "source": [
    "%load_ext autoreload\n",
    "%autoreload 2"
   ]
  },
  {
   "cell_type": "code",
   "execution_count": null,
   "metadata": {},
   "outputs": [],
   "source": [
    "import os\n",
    "import tensorflow as tf\n",
    "import numpy as np\n",
    "import matplotlib.pyplot as plt\n",
    "from TwoChannelModel import TwoChannelModel\n",
    "import nmca_model\n",
    "from correlation_analysis import CCA, PCC_Matrix\n",
    "from plot import plot_eval\n",
    "from tqdm.notebook import tqdm"
   ]
  },
  {
   "cell_type": "markdown",
   "metadata": {},
   "source": [
    "# Generate Data"
   ]
  },
  {
   "cell_type": "code",
   "execution_count": null,
   "metadata": {},
   "outputs": [],
   "source": [
    "data_model = TwoChannelModel(num_samples=1000)\n",
    "y_1, y_2, Az_1, Az_2, z_1, z_2 = data_model()"
   ]
  },
  {
   "cell_type": "code",
   "execution_count": null,
   "metadata": {},
   "outputs": [],
   "source": [
    "TwoChannelModel.plot_shared_components(z_1, z_2)"
   ]
  },
  {
   "cell_type": "code",
   "execution_count": null,
   "metadata": {},
   "outputs": [],
   "source": [
    "TwoChannelModel.plot_non_linearities(y_1, y_2, Az_1, Az_2)"
   ]
  },
  {
   "cell_type": "markdown",
   "metadata": {},
   "source": [
    "# Build model"
   ]
  },
  {
   "cell_type": "code",
   "execution_count": null,
   "metadata": {},
   "outputs": [],
   "source": [
    "model = nmca_model.build_nmca_model()"
   ]
  },
  {
   "cell_type": "code",
   "execution_count": null,
   "metadata": {},
   "outputs": [],
   "source": [
    "model.summary()"
   ]
  },
  {
   "cell_type": "markdown",
   "metadata": {},
   "source": [
    "# Train"
   ]
  },
  {
   "cell_type": "code",
   "execution_count": null,
   "metadata": {},
   "outputs": [],
   "source": [
    "def update_U(B_views, Fy_data):\n",
    "    num_samples = Fy_data[0].shape[1]\n",
    "    I_t = tf.cast(num_samples, dtype=tf.float32)\n",
    "    W = tf.eye(num_samples, num_samples) - tf.matmul(tf.ones([num_samples, 1]), tf.transpose(tf.ones([num_samples, 1])))/I_t\n",
    "\n",
    "    assert len(B_views) == len(Fy_data)\n",
    "    Z_tmp = [tf.matmul(B_views[i], Fy_data[i]) for i in range(len(B_views))]\n",
    "    Z = tf.add_n(Z_tmp)\n",
    "    U_tmp = tf.matmul(Z, W)\n",
    "\n",
    "    # singular values - left singular vectors - right singular vectors\n",
    "    D, P, Q = tf.linalg.svd(U_tmp, full_matrices=False, compute_uv=True)\n",
    "\n",
    "    return tf.sqrt(I_t)*tf.matmul(P, tf.transpose(Q))"
   ]
  },
  {
   "cell_type": "code",
   "execution_count": null,
   "metadata": {},
   "outputs": [],
   "source": [
    "NCA_Class = NonlinearComponentAnalysis(num_views=num_views,\n",
    "                                 num_channels=z_dim+c_dim,\n",
    "                                 encoder_layers=autoencoder_dims,\n",
    "                                 decoder_layers=autoencoder_dims,\n",
    "                                 batch_size=batch_size)\n",
    "NCA_Model = NCA_Class.NCA\n",
    "\n",
    "B_1, B_2 = tf.Variable(tf.eye(5), dtype=tf.float32), tf.Variable(tf.eye(5), dtype=tf.float32)\n",
    "\n",
    "output_of_encoders, output_of_decoders = NCA_Model(data_chunk)\n",
    "\n",
    "fy_1, fy_2 = output_of_encoders\n",
    "fy_1 = tf.transpose(fy_1[0,:])\n",
    "fy_2 = tf.transpose(fy_2[0,:])\n",
    "\n",
    "U = update_U(\n",
    "    B_views = [B_1, B_2],\n",
    "    Fy_data = [fy_1, fy_2]\n",
    ")\n",
    "\n",
    "y_1 = tf.cast(tf.squeeze(tf.stack(data_chunk[:5], axis=0)), dtype=tf.float32)\n",
    "y_2 = tf.cast(tf.squeeze(tf.stack(data_chunk[5:], axis=0)), dtype=tf.float32)\n",
    "\n",
    "loss_old = None\n",
    "cca_arr = list()\n",
    "autoenc_arr = list()\n",
    "loss_arr = list()\n",
    "i = 0"
   ]
  },
  {
   "cell_type": "code",
   "execution_count": null,
   "metadata": {},
   "outputs": [],
   "source": [
    "# Initialization\n",
    "NCA_Class.optimizer.learning_rate = 0.001\n",
    "lambda_reg = 0.01\n",
    "\n",
    "for _ in tqdm(range(100)):\n",
    "    for _ in range(100):\n",
    "        with tf.GradientTape(persistent=True) as tape:\n",
    "            # Variables to optimize\n",
    "            tape.watch(data_chunk)\n",
    "\n",
    "            # Feed input forward through networks\n",
    "            output_of_encoders, output_of_decoders = NCA_Model(data_chunk)\n",
    "\n",
    "            # Encoder output\n",
    "            fy_1, fy_2 = output_of_encoders\n",
    "            fy_1 = tf.transpose(fy_1[0,:])\n",
    "            fy_2 = tf.transpose(fy_2[0,:])\n",
    "            \n",
    "            y_1_recon = tf.transpose(tf.squeeze(output_of_decoders[0]))\n",
    "            y_2_recon = tf.transpose(tf.squeeze(output_of_decoders[1]))\n",
    "            \n",
    "            tmp_1 = tf.square(tf.norm(U - tf.matmul(B_1, fy_1), axis=0))\n",
    "            tmp_2 = tf.square(tf.norm(U - tf.matmul(B_2, fy_2), axis=0))\n",
    "            cca_loss = tf.reduce_mean(tf.add(tmp_1,tmp_2))\n",
    "            \n",
    "            tmp_3 = tf.square(tf.norm(y_1 - y_1_recon, axis=0))\n",
    "            tmp_4 = tf.square(tf.norm(y_2 - y_2_recon, axis=0))\n",
    "            autoenc_loss = tf.reduce_mean(tf.add(tmp_3,tmp_4))\n",
    "            \n",
    "            theta_loss = cca_loss + lambda_reg * autoenc_loss\n",
    "            autoenc_arr.append(autoenc_loss)\n",
    "            cca_arr.append(cca_loss)\n",
    "            loss_arr.append(theta_loss)\n",
    "\n",
    "            #if loss_old is not None and theta_loss > loss_old:\n",
    "            #    print(\"Break\")\n",
    "            #    break\n",
    "\n",
    "            loss_old = theta_loss\n",
    "            i = i + 1\n",
    "\n",
    "        gradients = tape.gradient(theta_loss, [NCA_Model.trainable_variables, B_1, B_2])\n",
    "\n",
    "        \n",
    "        NCA_Class.optimizer.apply_gradients(grads_and_vars=zip(gradients[:-2][0], NCA_Model.trainable_variables))\n",
    "        NCA_Class.optimizer.apply_gradients(grads_and_vars=zip([gradients[-2]], [B_1]))\n",
    "        NCA_Class.optimizer.apply_gradients(grads_and_vars=zip([gradients[-1]], [B_2]))\n",
    "\n",
    "    U = update_U(\n",
    "        B_views = [B_1, B_2],\n",
    "        Fy_data = [fy_1, fy_2]\n",
    "    )\n",
    "    \n",
    "    print(theta_loss)\n",
    "    loss_old = None"
   ]
  },
  {
   "cell_type": "code",
   "execution_count": null,
   "metadata": {},
   "outputs": [],
   "source": [
    "fig, axs = plt.subplots(1,1,figsize=(10,5))\n",
    "\n",
    "axs.plot(np.squeeze([np.linspace(0, len(loss_arr)-1, len(loss_arr))]), loss_arr)\n",
    "axs.set_ylim([0,50])\n",
    "plt.show()"
   ]
  },
  {
   "cell_type": "markdown",
   "metadata": {},
   "source": [
    "# Eval network"
   ]
  },
  {
   "cell_type": "code",
   "execution_count": null,
   "metadata": {},
   "outputs": [],
   "source": [
    "# Forward path\n",
    "[fy_1, fy_2], [yhat_1, yhat_2] = model([tf.transpose(y_1), tf.transpose(y_2)])\n",
    "\n",
    "# Compute CCA\n",
    "B1, B2, epsilon, omega, ccor = CCA(fy_1, fy_2, 2)\n",
    "\n",
    "fy_1, fy_2 = tf.transpose(fy_1), tf.transpose(fy_2)\n",
    "yhat_1, yhat_2 = tf.transpose(yhat_1), tf.transpose(yhat_2)"
   ]
  },
  {
   "cell_type": "code",
   "execution_count": null,
   "metadata": {},
   "outputs": [],
   "source": [
    "plot_eval(z_1, z_2, Az_1, Az_2, y_1, y_2, fy_1, fy_2, yhat_1, yhat_2, epsilon, omega)"
   ]
  }
 ],
 "metadata": {
  "kernelspec": {
   "display_name": "tfenv",
   "language": "python",
   "name": "tfenv"
  },
  "language_info": {
   "codemirror_mode": {
    "name": "ipython",
    "version": 3
   },
   "file_extension": ".py",
   "mimetype": "text/x-python",
   "name": "python",
   "nbconvert_exporter": "python",
   "pygments_lexer": "ipython3",
   "version": "3.7.3"
  }
 },
 "nbformat": 4,
 "nbformat_minor": 4
}
