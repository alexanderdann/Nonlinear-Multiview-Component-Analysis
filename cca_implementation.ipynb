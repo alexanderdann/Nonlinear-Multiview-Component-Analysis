{
 "cells": [
  {
   "cell_type": "code",
   "execution_count": 2,
   "metadata": {},
   "outputs": [
    {
     "name": "stdout",
     "output_type": "stream",
     "text": [
      "The autoreload extension is already loaded. To reload it, use:\n",
      "  %reload_ext autoreload\n"
     ]
    }
   ],
   "source": [
    "%load_ext autoreload\n",
    "%autoreload 2\n",
    "%load_ext tensorboard"
   ]
  },
  {
   "cell_type": "code",
   "execution_count": 3,
   "metadata": {
    "scrolled": false
   },
   "outputs": [
    {
     "ename": "ModuleNotFoundError",
     "evalue": "No module named 'tensorflow'",
     "output_type": "error",
     "traceback": [
      "\u001b[0;31m---------------------------------------------------------------------------\u001b[0m",
      "\u001b[0;31mModuleNotFoundError\u001b[0m                       Traceback (most recent call last)",
      "\u001b[0;32m<ipython-input-3-a06ad9ac3f51>\u001b[0m in \u001b[0;36m<module>\u001b[0;34m\u001b[0m\n\u001b[1;32m      1\u001b[0m \u001b[0;32mimport\u001b[0m \u001b[0mos\u001b[0m\u001b[0;34m\u001b[0m\u001b[0;34m\u001b[0m\u001b[0m\n\u001b[0;32m----> 2\u001b[0;31m \u001b[0;32mimport\u001b[0m \u001b[0mtensorflow\u001b[0m \u001b[0;32mas\u001b[0m \u001b[0mtf\u001b[0m\u001b[0;34m\u001b[0m\u001b[0;34m\u001b[0m\u001b[0m\n\u001b[0m\u001b[1;32m      3\u001b[0m \u001b[0;32mimport\u001b[0m \u001b[0mnumpy\u001b[0m \u001b[0;32mas\u001b[0m \u001b[0mnp\u001b[0m\u001b[0;34m\u001b[0m\u001b[0;34m\u001b[0m\u001b[0m\n\u001b[1;32m      4\u001b[0m \u001b[0;32mimport\u001b[0m \u001b[0mscipy\u001b[0m\u001b[0;34m\u001b[0m\u001b[0;34m\u001b[0m\u001b[0m\n\u001b[1;32m      5\u001b[0m \u001b[0;32mimport\u001b[0m \u001b[0mmatplotlib\u001b[0m\u001b[0;34m.\u001b[0m\u001b[0mpyplot\u001b[0m \u001b[0;32mas\u001b[0m \u001b[0mplt\u001b[0m\u001b[0;34m\u001b[0m\u001b[0;34m\u001b[0m\u001b[0m\n",
      "\u001b[0;31mModuleNotFoundError\u001b[0m: No module named 'tensorflow'"
     ]
    }
   ],
   "source": [
    "import os\n",
    "import tensorflow as tf\n",
    "import numpy as np\n",
    "import scipy\n",
    "import matplotlib.pyplot as plt\n",
    "from tqdm.notebook import tqdm\n",
    "\n",
    "import nmca_model\n",
    "from TwoChannelModel import TwoChannelModel\n",
    "from correlation_analysis import CCA, PCC_Matrix\n",
    "from plot import plot_eval\n",
    "from tf_summary import write_image_summary, write_metric_summary"
   ]
  },
  {
   "cell_type": "markdown",
   "metadata": {},
   "source": [
    "# Generate Data"
   ]
  },
  {
   "cell_type": "code",
   "execution_count": null,
   "metadata": {},
   "outputs": [],
   "source": [
    "data_model = TwoChannelModel(num_samples=1000)\n",
    "y_1, y_2, Az_1, Az_2, z_1, z_2 = data_model()"
   ]
  },
  {
   "cell_type": "code",
   "execution_count": null,
   "metadata": {},
   "outputs": [],
   "source": [
    "TwoChannelModel.plot_shared_components(z_1, z_2)"
   ]
  },
  {
   "cell_type": "code",
   "execution_count": null,
   "metadata": {},
   "outputs": [],
   "source": [
    "TwoChannelModel.plot_non_linearities(y_1, y_2, Az_1, Az_2)"
   ]
  },
  {
   "cell_type": "markdown",
   "metadata": {},
   "source": [
    "# Build model"
   ]
  },
  {
   "cell_type": "code",
   "execution_count": null,
   "metadata": {},
   "outputs": [],
   "source": [
    "model = nmca_model.build_nmca_model()"
   ]
  },
  {
   "cell_type": "code",
   "execution_count": null,
   "metadata": {},
   "outputs": [],
   "source": [
    "model.summary()"
   ]
  },
  {
   "cell_type": "markdown",
   "metadata": {},
   "source": [
    "# Train one network"
   ]
  },
  {
   "cell_type": "code",
   "execution_count": null,
   "metadata": {
    "scrolled": false
   },
   "outputs": [],
   "source": [
    "writer = nmca_model.create_writer(\"/var/tmp/mkuschel/tf_logs\")\n",
    "optimizer = tf.keras.optimizers.Adam()\n",
    "\n",
    "for epoch in tqdm(range(15000), desc='Epochs'):\n",
    "    with tf.GradientTape() as tape:\n",
    "        # Watch the input to be able to compute the gradient later\n",
    "        tape.watch([y_1,y_2])\n",
    "        # Forward path\n",
    "        [fy_1, fy_2], [yhat_1, yhat_2] = model([tf.transpose(y_1), tf.transpose(y_2)])\n",
    "        # Loss computation\n",
    "        loss, cca_loss, rec_loss, ccor = nmca_model.compute_loss(y_1, y_2, fy_1, fy_2, yhat_1, yhat_2, lambda_reg=1e-10)\n",
    "        \n",
    "        if epoch%5 == 0:\n",
    "            # Compute dist metric\n",
    "            B1, B2, epsilon, omega, ccor = CCA(fy_1, fy_2, 2)\n",
    "            dist = nmca_model.compute_distance_metric(S=z_1[:2], U=0.5*(omega+epsilon))\n",
    "            \n",
    "            write_metric_summary(writer, epoch, loss, cca_loss, rec_loss, ccor, dist)\n",
    "        \n",
    "        if epoch%500 == 0:\n",
    "            write_image_summary(writer, epoch, Az_1, Az_2, y_1, y_2, fy_1, fy_2)\n",
    "        \n",
    "    # Compute gradients\n",
    "    gradients = tape.gradient(loss, model.trainable_variables)\n",
    "    # Backpropagate through network\n",
    "    optimizer.apply_gradients(zip(gradients, model.trainable_variables))"
   ]
  },
  {
   "cell_type": "markdown",
   "metadata": {},
   "source": [
    "# Train many networks"
   ]
  },
  {
   "cell_type": "code",
   "execution_count": null,
   "metadata": {},
   "outputs": [],
   "source": [
    "num_models = 3\n",
    "lambda_reg = 1e-10\n",
    "\n",
    "for _ in range(num_models):\n",
    "    writer = nmca_model.create_writer(\"/var/tmp/mkuschel/tf_logs\")\n",
    "    optimizer = tf.keras.optimizers.Adam()\n",
    "    model = nmca_model.build_nmca_model()\n",
    "\n",
    "    for epoch in tqdm(range(30000), desc='Epochs'):\n",
    "        with tf.GradientTape() as tape:\n",
    "            # Watch the input to be able to compute the gradient later\n",
    "            tape.watch([y_1,y_2])\n",
    "            # Forward path\n",
    "            [fy_1, fy_2], [yhat_1, yhat_2] = model([tf.transpose(y_1), tf.transpose(y_2)])\n",
    "            # Loss computation\n",
    "            loss, cca_loss, rec_loss, ccor = nmca_model.compute_loss(y_1, y_2, fy_1, fy_2, yhat_1, yhat_2, lambda_reg=lambda_reg)\n",
    "\n",
    "            if epoch%5 == 0:\n",
    "                # Compute dist metric\n",
    "                B1, B2, epsilon, omega, ccor = CCA(fy_1, fy_2, 2)\n",
    "                dist = nmca_model.compute_distance_metric(S=z_1[:2], U=0.5*(omega+epsilon))\n",
    "\n",
    "                write_metric_summary(writer, epoch, loss, cca_loss, rec_loss, ccor, dist)\n",
    "\n",
    "            if epoch%500 == 0:\n",
    "                write_image_summary(writer, epoch, Az_1, Az_2, y_1, y_2, fy_1, fy_2)\n",
    "\n",
    "        # Compute gradients\n",
    "        gradients = tape.gradient(loss, model.trainable_variables)\n",
    "        # Backpropagate through network\n",
    "        optimizer.apply_gradients(zip(gradients, model.trainable_variables))"
   ]
  },
  {
   "cell_type": "markdown",
   "metadata": {},
   "source": [
    "# Eval network"
   ]
  },
  {
   "cell_type": "code",
   "execution_count": null,
   "metadata": {},
   "outputs": [],
   "source": [
    "# Forward path\n",
    "[fy_1, fy_2], [yhat_1, yhat_2] = model([tf.transpose(y_1), tf.transpose(y_2)])\n",
    "\n",
    "# Compute CCA\n",
    "B1, B2, epsilon, omega, ccor = CCA(fy_1, fy_2, 2)\n",
    "\n",
    "fy_1, fy_2 = tf.transpose(fy_1), tf.transpose(fy_2)\n",
    "yhat_1, yhat_2 = tf.transpose(yhat_1), tf.transpose(yhat_2)"
   ]
  },
  {
   "cell_type": "code",
   "execution_count": null,
   "metadata": {},
   "outputs": [],
   "source": [
    "S = z_1[:2]\n",
    "Ps = np.eye(1000) - tf.transpose(S)@np.linalg.inv(S@tf.transpose(S))@S\n",
    "U = 0.5*(omega+epsilon)\n",
    "Q = scipy.linalg.orth(tf.transpose(U))\n",
    "dist = np.linalg.norm(Ps@Q, ord=2)\n",
    "print(\"Dist: \"+str(dist))"
   ]
  },
  {
   "cell_type": "code",
   "execution_count": null,
   "metadata": {
    "scrolled": false
   },
   "outputs": [],
   "source": [
    "plot_eval(z_1, z_2, Az_1, Az_2, y_1, y_2, fy_1, fy_2, yhat_1, yhat_2, epsilon, omega)"
   ]
  },
  {
   "cell_type": "code",
   "execution_count": null,
   "metadata": {},
   "outputs": [],
   "source": []
  }
 ],
 "metadata": {
  "kernelspec": {
   "display_name": "Python 3",
   "language": "python",
   "name": "python3"
  },
  "language_info": {
   "codemirror_mode": {
    "name": "ipython",
    "version": 3
   },
   "file_extension": ".py",
   "mimetype": "text/x-python",
   "name": "python",
   "nbconvert_exporter": "python",
   "pygments_lexer": "ipython3",
   "version": "3.8.2"
  }
 },
 "nbformat": 4,
 "nbformat_minor": 2
}
